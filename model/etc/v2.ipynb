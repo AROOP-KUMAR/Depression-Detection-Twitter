{
 "cells": [
  {
   "cell_type": "code",
   "execution_count": 1,
   "id": "absent-howard",
   "metadata": {},
   "outputs": [],
   "source": [
    "import numpy as np\n",
    "import pandas as pd\n",
    "import matplotlib.pyplot as plt\n",
    "import seaborn as sns\n",
    "import re    \n",
    "import nltk \n",
    "import string \n",
    "import warnings"
   ]
  },
  {
   "cell_type": "code",
   "execution_count": 2,
   "id": "surprising-evaluation",
   "metadata": {},
   "outputs": [],
   "source": [
    "warnings.filterwarnings(\"ignore\")\n",
    "pd.set_option(\"display.max_colwidth\", 200)"
   ]
  },
  {
   "cell_type": "code",
   "execution_count": 3,
   "id": "cultural-assembly",
   "metadata": {},
   "outputs": [],
   "source": [
    "data = pd.read_csv(\"../../data/tweets_combined.csv\")"
   ]
  },
  {
   "cell_type": "code",
   "execution_count": 4,
   "id": "collective-access",
   "metadata": {},
   "outputs": [
    {
     "data": {
      "text/html": [
       "<div>\n",
       "<style scoped>\n",
       "    .dataframe tbody tr th:only-of-type {\n",
       "        vertical-align: middle;\n",
       "    }\n",
       "\n",
       "    .dataframe tbody tr th {\n",
       "        vertical-align: top;\n",
       "    }\n",
       "\n",
       "    .dataframe thead th {\n",
       "        text-align: right;\n",
       "    }\n",
       "</style>\n",
       "<table border=\"1\" class=\"dataframe\">\n",
       "  <thead>\n",
       "    <tr style=\"text-align: right;\">\n",
       "      <th></th>\n",
       "      <th>Unnamed: 0</th>\n",
       "      <th>tweet</th>\n",
       "      <th>target</th>\n",
       "    </tr>\n",
       "  </thead>\n",
       "  <tbody>\n",
       "    <tr>\n",
       "      <th>0</th>\n",
       "      <td>0</td>\n",
       "      <td>Today in Selfcare: beauty &amp;amp; laughs Kung Fu Panda 3 #Wellness #joy #laughter #selfcare #therapist #philadelphia</td>\n",
       "      <td>0</td>\n",
       "    </tr>\n",
       "    <tr>\n",
       "      <th>1</th>\n",
       "      <td>1</td>\n",
       "      <td>I get to spend New Year's home again alone and lonely. ???•</td>\n",
       "      <td>1</td>\n",
       "    </tr>\n",
       "    <tr>\n",
       "      <th>2</th>\n",
       "      <td>2</td>\n",
       "      <td>Depressed and lonely /: Stuck in a deep, never ending hole :(</td>\n",
       "      <td>1</td>\n",
       "    </tr>\n",
       "    <tr>\n",
       "      <th>3</th>\n",
       "      <td>3</td>\n",
       "      <td>If this is your response to someone saying they're dealing with , you're a terrible person.</td>\n",
       "      <td>0</td>\n",
       "    </tr>\n",
       "    <tr>\n",
       "      <th>4</th>\n",
       "      <td>4</td>\n",
       "      <td>Apparently you get a free pass just by mentioning    Where was I on the free badge day??!!</td>\n",
       "      <td>0</td>\n",
       "    </tr>\n",
       "  </tbody>\n",
       "</table>\n",
       "</div>"
      ],
      "text/plain": [
       "   Unnamed: 0  \\\n",
       "0           0   \n",
       "1           1   \n",
       "2           2   \n",
       "3           3   \n",
       "4           4   \n",
       "\n",
       "                                                                                                                tweet  \\\n",
       "0  Today in Selfcare: beauty &amp; laughs Kung Fu Panda 3 #Wellness #joy #laughter #selfcare #therapist #philadelphia   \n",
       "1                                                        I get to spend New Year's home again alone and lonely. ???•    \n",
       "2                                                     Depressed and lonely /: Stuck in a deep, never ending hole :(     \n",
       "3                       If this is your response to someone saying they're dealing with , you're a terrible person.     \n",
       "4                          Apparently you get a free pass just by mentioning    Where was I on the free badge day??!!   \n",
       "\n",
       "   target  \n",
       "0       0  \n",
       "1       1  \n",
       "2       1  \n",
       "3       0  \n",
       "4       0  "
      ]
     },
     "execution_count": 4,
     "metadata": {},
     "output_type": "execute_result"
    }
   ],
   "source": [
    "data.head()"
   ]
  },
  {
   "cell_type": "code",
   "execution_count": 5,
   "id": "pursuant-slide",
   "metadata": {},
   "outputs": [
    {
     "data": {
      "text/html": [
       "<div>\n",
       "<style scoped>\n",
       "    .dataframe tbody tr th:only-of-type {\n",
       "        vertical-align: middle;\n",
       "    }\n",
       "\n",
       "    .dataframe tbody tr th {\n",
       "        vertical-align: top;\n",
       "    }\n",
       "\n",
       "    .dataframe thead th {\n",
       "        text-align: right;\n",
       "    }\n",
       "</style>\n",
       "<table border=\"1\" class=\"dataframe\">\n",
       "  <thead>\n",
       "    <tr style=\"text-align: right;\">\n",
       "      <th></th>\n",
       "      <th>Unnamed: 0</th>\n",
       "      <th>tweet</th>\n",
       "      <th>target</th>\n",
       "    </tr>\n",
       "  </thead>\n",
       "  <tbody>\n",
       "    <tr>\n",
       "      <th>3195</th>\n",
       "      <td>3195</td>\n",
       "      <td>May the new year abound in H’s: Health, Hope, Healing, Happiness And H-coils!</td>\n",
       "      <td>0</td>\n",
       "    </tr>\n",
       "    <tr>\n",
       "      <th>3196</th>\n",
       "      <td>3196</td>\n",
       "      <td>It is not a beautiful day as usual.</td>\n",
       "      <td>1</td>\n",
       "    </tr>\n",
       "    <tr>\n",
       "      <th>3197</th>\n",
       "      <td>3197</td>\n",
       "      <td>Compact Metal Leaf Grinder with Four Layers  pic.twitter.com/VTan3PBT6H</td>\n",
       "      <td>0</td>\n",
       "    </tr>\n",
       "    <tr>\n",
       "      <th>3198</th>\n",
       "      <td>3198</td>\n",
       "      <td>First Christmas in YEARS that I have to work.  it just doesn't feel the same.</td>\n",
       "      <td>0</td>\n",
       "    </tr>\n",
       "    <tr>\n",
       "      <th>3199</th>\n",
       "      <td>3199</td>\n",
       "      <td>It's okay sus. Let that hurt go 🤗 * that's me hugging ya bitter ass * 😂😂😂</td>\n",
       "      <td>0</td>\n",
       "    </tr>\n",
       "  </tbody>\n",
       "</table>\n",
       "</div>"
      ],
      "text/plain": [
       "      Unnamed: 0  \\\n",
       "3195        3195   \n",
       "3196        3196   \n",
       "3197        3197   \n",
       "3198        3198   \n",
       "3199        3199   \n",
       "\n",
       "                                                                                   tweet  \\\n",
       "3195  May the new year abound in H’s: Health, Hope, Healing, Happiness And H-coils!        \n",
       "3196                                                 It is not a beautiful day as usual.   \n",
       "3197             Compact Metal Leaf Grinder with Four Layers  pic.twitter.com/VTan3PBT6H   \n",
       "3198       First Christmas in YEARS that I have to work.  it just doesn't feel the same.   \n",
       "3199           It's okay sus. Let that hurt go 🤗 * that's me hugging ya bitter ass * 😂😂😂   \n",
       "\n",
       "      target  \n",
       "3195       0  \n",
       "3196       1  \n",
       "3197       0  \n",
       "3198       0  \n",
       "3199       0  "
      ]
     },
     "execution_count": 5,
     "metadata": {},
     "output_type": "execute_result"
    }
   ],
   "source": [
    "data.tail()"
   ]
  },
  {
   "cell_type": "code",
   "execution_count": 6,
   "id": "tropical-programmer",
   "metadata": {},
   "outputs": [
    {
     "data": {
      "text/html": [
       "<div>\n",
       "<style scoped>\n",
       "    .dataframe tbody tr th:only-of-type {\n",
       "        vertical-align: middle;\n",
       "    }\n",
       "\n",
       "    .dataframe tbody tr th {\n",
       "        vertical-align: top;\n",
       "    }\n",
       "\n",
       "    .dataframe thead th {\n",
       "        text-align: right;\n",
       "    }\n",
       "</style>\n",
       "<table border=\"1\" class=\"dataframe\">\n",
       "  <thead>\n",
       "    <tr style=\"text-align: right;\">\n",
       "      <th></th>\n",
       "      <th>S_no</th>\n",
       "      <th>Tweet</th>\n",
       "      <th>Depressive</th>\n",
       "    </tr>\n",
       "  </thead>\n",
       "  <tbody>\n",
       "    <tr>\n",
       "      <th>0</th>\n",
       "      <td>0</td>\n",
       "      <td>Today in Selfcare: beauty &amp;amp; laughs Kung Fu Panda 3 #Wellness #joy #laughter #selfcare #therapist #philadelphia</td>\n",
       "      <td>0</td>\n",
       "    </tr>\n",
       "    <tr>\n",
       "      <th>1</th>\n",
       "      <td>1</td>\n",
       "      <td>I get to spend New Year's home again alone and lonely. ???•</td>\n",
       "      <td>1</td>\n",
       "    </tr>\n",
       "    <tr>\n",
       "      <th>2</th>\n",
       "      <td>2</td>\n",
       "      <td>Depressed and lonely /: Stuck in a deep, never ending hole :(</td>\n",
       "      <td>1</td>\n",
       "    </tr>\n",
       "    <tr>\n",
       "      <th>3</th>\n",
       "      <td>3</td>\n",
       "      <td>If this is your response to someone saying they're dealing with , you're a terrible person.</td>\n",
       "      <td>0</td>\n",
       "    </tr>\n",
       "    <tr>\n",
       "      <th>4</th>\n",
       "      <td>4</td>\n",
       "      <td>Apparently you get a free pass just by mentioning    Where was I on the free badge day??!!</td>\n",
       "      <td>0</td>\n",
       "    </tr>\n",
       "  </tbody>\n",
       "</table>\n",
       "</div>"
      ],
      "text/plain": [
       "   S_no  \\\n",
       "0     0   \n",
       "1     1   \n",
       "2     2   \n",
       "3     3   \n",
       "4     4   \n",
       "\n",
       "                                                                                                                Tweet  \\\n",
       "0  Today in Selfcare: beauty &amp; laughs Kung Fu Panda 3 #Wellness #joy #laughter #selfcare #therapist #philadelphia   \n",
       "1                                                        I get to spend New Year's home again alone and lonely. ???•    \n",
       "2                                                     Depressed and lonely /: Stuck in a deep, never ending hole :(     \n",
       "3                       If this is your response to someone saying they're dealing with , you're a terrible person.     \n",
       "4                          Apparently you get a free pass just by mentioning    Where was I on the free badge day??!!   \n",
       "\n",
       "   Depressive  \n",
       "0           0  \n",
       "1           1  \n",
       "2           1  \n",
       "3           0  \n",
       "4           0  "
      ]
     },
     "execution_count": 6,
     "metadata": {},
     "output_type": "execute_result"
    }
   ],
   "source": [
    "DATASET_COLUMNS = [\"S_no\", \"Tweet\", \"Depressive\"]\n",
    "data.columns = DATASET_COLUMNS\n",
    "data.head()"
   ]
  },
  {
   "cell_type": "code",
   "execution_count": 7,
   "id": "subject-juvenile",
   "metadata": {},
   "outputs": [],
   "source": [
    "data.drop([\"S_no\"], axis = 1, inplace = True)"
   ]
  },
  {
   "cell_type": "code",
   "execution_count": 8,
   "id": "bridal-stress",
   "metadata": {},
   "outputs": [
    {
     "data": {
      "text/plain": [
       "(3200, 2)"
      ]
     },
     "execution_count": 8,
     "metadata": {},
     "output_type": "execute_result"
    }
   ],
   "source": [
    "data.shape"
   ]
  },
  {
   "cell_type": "code",
   "execution_count": 9,
   "id": "social-values",
   "metadata": {},
   "outputs": [
    {
     "data": {
      "text/plain": [
       "0    2357\n",
       "1     843\n",
       "Name: Depressive, dtype: int64"
      ]
     },
     "execution_count": 9,
     "metadata": {},
     "output_type": "execute_result"
    }
   ],
   "source": [
    "data[\"Depressive\"].value_counts()"
   ]
  },
  {
   "cell_type": "code",
   "execution_count": 10,
   "id": "compound-ideal",
   "metadata": {},
   "outputs": [
    {
     "data": {
      "image/png": "[encoded data removed]",
      "text/plain": [
       "<Figure size 432x288 with 1 Axes>"
      ]
     },
     "metadata": {
      "needs_background": "light"
     },
     "output_type": "display_data"
    }
   ],
   "source": [
    "ax = sns.barplot(x = data[\"Depressive\"].unique(),y = data[\"Depressive\"].value_counts());\n",
    "ax.set(xlabel=\"Values\");"
   ]
  },
  {
   "cell_type": "code",
   "execution_count": 11,
   "id": "considerable-farming",
   "metadata": {},
   "outputs": [
    {
     "data": {
      "text/html": [
       "<div>\n",
       "<style scoped>\n",
       "    .dataframe tbody tr th:only-of-type {\n",
       "        vertical-align: middle;\n",
       "    }\n",
       "\n",
       "    .dataframe tbody tr th {\n",
       "        vertical-align: top;\n",
       "    }\n",
       "\n",
       "    .dataframe thead th {\n",
       "        text-align: right;\n",
       "    }\n",
       "</style>\n",
       "<table border=\"1\" class=\"dataframe\">\n",
       "  <thead>\n",
       "    <tr style=\"text-align: right;\">\n",
       "      <th></th>\n",
       "      <th>Tweet</th>\n",
       "      <th>Depressive</th>\n",
       "    </tr>\n",
       "  </thead>\n",
       "  <tbody>\n",
       "    <tr>\n",
       "      <th>0</th>\n",
       "      <td>Today in Selfcare: beauty &amp;amp; laughs Kung Fu Panda 3 #Wellness #joy #laughter #selfcare #therapist #philadelphia</td>\n",
       "      <td>0</td>\n",
       "    </tr>\n",
       "    <tr>\n",
       "      <th>1</th>\n",
       "      <td>I get to spend New Year's home again alone and lonely. ???•</td>\n",
       "      <td>1</td>\n",
       "    </tr>\n",
       "    <tr>\n",
       "      <th>2</th>\n",
       "      <td>Depressed and lonely /: Stuck in a deep, never ending hole :(</td>\n",
       "      <td>1</td>\n",
       "    </tr>\n",
       "    <tr>\n",
       "      <th>3</th>\n",
       "      <td>If this is your response to someone saying they're dealing with , you're a terrible person.</td>\n",
       "      <td>0</td>\n",
       "    </tr>\n",
       "    <tr>\n",
       "      <th>4</th>\n",
       "      <td>Apparently you get a free pass just by mentioning    Where was I on the free badge day??!!</td>\n",
       "      <td>0</td>\n",
       "    </tr>\n",
       "    <tr>\n",
       "      <th>5</th>\n",
       "      <td>When you will never again give birth to violent men..   pic.twitter.com/pkdPhhlUuZ</td>\n",
       "      <td>0</td>\n",
       "    </tr>\n",
       "    <tr>\n",
       "      <th>6</th>\n",
       "      <td>Learning to pretend to have a good time had become a natural skill. I hope one day it is genuine</td>\n",
       "      <td>1</td>\n",
       "    </tr>\n",
       "    <tr>\n",
       "      <th>7</th>\n",
       "      <td>Aw man im outta pizza rolls</td>\n",
       "      <td>0</td>\n",
       "    </tr>\n",
       "    <tr>\n",
       "      <th>8</th>\n",
       "      <td>When you go out and try to be a part of life &amp; end up feeling like you are less a part of it then when you started.   pic.twitter.com/J625NXrWDb</td>\n",
       "      <td>0</td>\n",
       "    </tr>\n",
       "    <tr>\n",
       "      <th>9</th>\n",
       "      <td>So far he stop texting me…after I said something…so hopefully he doesn't show up at my house…</td>\n",
       "      <td>1</td>\n",
       "    </tr>\n",
       "  </tbody>\n",
       "</table>\n",
       "</div>"
      ],
      "text/plain": [
       "                                                                                                                                              Tweet  \\\n",
       "0                                Today in Selfcare: beauty &amp; laughs Kung Fu Panda 3 #Wellness #joy #laughter #selfcare #therapist #philadelphia   \n",
       "1                                                                                      I get to spend New Year's home again alone and lonely. ???•    \n",
       "2                                                                                   Depressed and lonely /: Stuck in a deep, never ending hole :(     \n",
       "3                                                     If this is your response to someone saying they're dealing with , you're a terrible person.     \n",
       "4                                                        Apparently you get a free pass just by mentioning    Where was I on the free badge day??!!   \n",
       "5                                                                When you will never again give birth to violent men..   pic.twitter.com/pkdPhhlUuZ   \n",
       "6                                                  Learning to pretend to have a good time had become a natural skill. I hope one day it is genuine   \n",
       "7                                                                                                                      Aw man im outta pizza rolls    \n",
       "8  When you go out and try to be a part of life & end up feeling like you are less a part of it then when you started.   pic.twitter.com/J625NXrWDb   \n",
       "9                                                     So far he stop texting me…after I said something…so hopefully he doesn't show up at my house…   \n",
       "\n",
       "   Depressive  \n",
       "0           0  \n",
       "1           1  \n",
       "2           1  \n",
       "3           0  \n",
       "4           0  \n",
       "5           0  \n",
       "6           1  \n",
       "7           0  \n",
       "8           0  \n",
       "9           1  "
      ]
     },
     "execution_count": 11,
     "metadata": {},
     "output_type": "execute_result"
    }
   ],
   "source": [
    "data.head(10)"
   ]
  },
  {
   "cell_type": "code",
   "execution_count": 12,
   "id": "secure-monitoring",
   "metadata": {},
   "outputs": [
    {
     "data": {
      "text/html": [
       "<div>\n",
       "<style scoped>\n",
       "    .dataframe tbody tr th:only-of-type {\n",
       "        vertical-align: middle;\n",
       "    }\n",
       "\n",
       "    .dataframe tbody tr th {\n",
       "        vertical-align: top;\n",
       "    }\n",
       "\n",
       "    .dataframe thead th {\n",
       "        text-align: right;\n",
       "    }\n",
       "</style>\n",
       "<table border=\"1\" class=\"dataframe\">\n",
       "  <thead>\n",
       "    <tr style=\"text-align: right;\">\n",
       "      <th></th>\n",
       "      <th>Tweet</th>\n",
       "      <th>Depressive</th>\n",
       "      <th>Processed_Tweet</th>\n",
       "    </tr>\n",
       "  </thead>\n",
       "  <tbody>\n",
       "    <tr>\n",
       "      <th>0</th>\n",
       "      <td>Today in Selfcare: beauty &amp;amp; laughs Kung Fu Panda 3 #Wellness #joy #laughter #selfcare #therapist #philadelphia</td>\n",
       "      <td>0</td>\n",
       "      <td>Today in Selfcare: beauty &amp;amp; laughs Kung Fu Panda 3 #Wellness #joy #laughter #selfcare #therapist #philadelphia</td>\n",
       "    </tr>\n",
       "    <tr>\n",
       "      <th>1</th>\n",
       "      <td>I get to spend New Year's home again alone and lonely. ???•</td>\n",
       "      <td>1</td>\n",
       "      <td>I get to spend New Year's home again alone and lonely. ???•</td>\n",
       "    </tr>\n",
       "    <tr>\n",
       "      <th>2</th>\n",
       "      <td>Depressed and lonely /: Stuck in a deep, never ending hole :(</td>\n",
       "      <td>1</td>\n",
       "      <td>Depressed and lonely /: Stuck in a deep, never ending hole :(</td>\n",
       "    </tr>\n",
       "    <tr>\n",
       "      <th>3</th>\n",
       "      <td>If this is your response to someone saying they're dealing with , you're a terrible person.</td>\n",
       "      <td>0</td>\n",
       "      <td>If this is your response to someone saying they're dealing with , you're a terrible person.</td>\n",
       "    </tr>\n",
       "    <tr>\n",
       "      <th>4</th>\n",
       "      <td>Apparently you get a free pass just by mentioning    Where was I on the free badge day??!!</td>\n",
       "      <td>0</td>\n",
       "      <td>Apparently you get a free pass just by mentioning    Where was I on the free badge day??!!</td>\n",
       "    </tr>\n",
       "    <tr>\n",
       "      <th>5</th>\n",
       "      <td>When you will never again give birth to violent men..   pic.twitter.com/pkdPhhlUuZ</td>\n",
       "      <td>0</td>\n",
       "      <td>When you will never again give birth to violent men..</td>\n",
       "    </tr>\n",
       "    <tr>\n",
       "      <th>6</th>\n",
       "      <td>Learning to pretend to have a good time had become a natural skill. I hope one day it is genuine</td>\n",
       "      <td>1</td>\n",
       "      <td>Learning to pretend to have a good time had become a natural skill. I hope one day it is genuine</td>\n",
       "    </tr>\n",
       "    <tr>\n",
       "      <th>7</th>\n",
       "      <td>Aw man im outta pizza rolls</td>\n",
       "      <td>0</td>\n",
       "      <td>Aw man im outta pizza rolls</td>\n",
       "    </tr>\n",
       "    <tr>\n",
       "      <th>8</th>\n",
       "      <td>When you go out and try to be a part of life &amp; end up feeling like you are less a part of it then when you started.   pic.twitter.com/J625NXrWDb</td>\n",
       "      <td>0</td>\n",
       "      <td>When you go out and try to be a part of life &amp; end up feeling like you are less a part of it then when you started.</td>\n",
       "    </tr>\n",
       "    <tr>\n",
       "      <th>9</th>\n",
       "      <td>So far he stop texting me…after I said something…so hopefully he doesn't show up at my house…</td>\n",
       "      <td>1</td>\n",
       "      <td>So far he stop texting me…after I said something…so hopefully he doesn't show up at my house…</td>\n",
       "    </tr>\n",
       "  </tbody>\n",
       "</table>\n",
       "</div>"
      ],
      "text/plain": [
       "                                                                                                                                              Tweet  \\\n",
       "0                                Today in Selfcare: beauty &amp; laughs Kung Fu Panda 3 #Wellness #joy #laughter #selfcare #therapist #philadelphia   \n",
       "1                                                                                      I get to spend New Year's home again alone and lonely. ???•    \n",
       "2                                                                                   Depressed and lonely /: Stuck in a deep, never ending hole :(     \n",
       "3                                                     If this is your response to someone saying they're dealing with , you're a terrible person.     \n",
       "4                                                        Apparently you get a free pass just by mentioning    Where was I on the free badge day??!!   \n",
       "5                                                                When you will never again give birth to violent men..   pic.twitter.com/pkdPhhlUuZ   \n",
       "6                                                  Learning to pretend to have a good time had become a natural skill. I hope one day it is genuine   \n",
       "7                                                                                                                      Aw man im outta pizza rolls    \n",
       "8  When you go out and try to be a part of life & end up feeling like you are less a part of it then when you started.   pic.twitter.com/J625NXrWDb   \n",
       "9                                                     So far he stop texting me…after I said something…so hopefully he doesn't show up at my house…   \n",
       "\n",
       "   Depressive  \\\n",
       "0           0   \n",
       "1           1   \n",
       "2           1   \n",
       "3           0   \n",
       "4           0   \n",
       "5           0   \n",
       "6           1   \n",
       "7           0   \n",
       "8           0   \n",
       "9           1   \n",
       "\n",
       "                                                                                                          Processed_Tweet  \n",
       "0      Today in Selfcare: beauty &amp; laughs Kung Fu Panda 3 #Wellness #joy #laughter #selfcare #therapist #philadelphia  \n",
       "1                                                            I get to spend New Year's home again alone and lonely. ???•   \n",
       "2                                                         Depressed and lonely /: Stuck in a deep, never ending hole :(    \n",
       "3                           If this is your response to someone saying they're dealing with , you're a terrible person.    \n",
       "4                              Apparently you get a free pass just by mentioning    Where was I on the free badge day??!!  \n",
       "5                                                                When you will never again give birth to violent men..     \n",
       "6                        Learning to pretend to have a good time had become a natural skill. I hope one day it is genuine  \n",
       "7                                                                                            Aw man im outta pizza rolls   \n",
       "8  When you go out and try to be a part of life & end up feeling like you are less a part of it then when you started.     \n",
       "9                           So far he stop texting me…after I said something…so hopefully he doesn't show up at my house…  "
      ]
     },
     "execution_count": 12,
     "metadata": {},
     "output_type": "execute_result"
    }
   ],
   "source": [
    "urlPattern = r\"((http://)[^ ]*|(https://)[^ ]*|( www\\.)[^ ]*)\"\n",
    "userPattern = '@[^\\s]+'\n",
    "data[\"Processed_Tweet\"] = data[\"Tweet\"].str.replace(userPattern, \"\")\n",
    "data[\"Processed_Tweet\"] = data[\"Processed_Tweet\"].str.replace(urlPattern, \"\")\n",
    "data[\"Processed_Tweet\"] = data[\"Processed_Tweet\"].str.replace(r\"pic.twitter.com\\S+\", \"\")\n",
    "data.head(10)"
   ]
  },
  {
   "cell_type": "code",
   "execution_count": 13,
   "id": "liked-nomination",
   "metadata": {},
   "outputs": [
    {
     "data": {
      "text/html": [
       "<div>\n",
       "<style scoped>\n",
       "    .dataframe tbody tr th:only-of-type {\n",
       "        vertical-align: middle;\n",
       "    }\n",
       "\n",
       "    .dataframe tbody tr th {\n",
       "        vertical-align: top;\n",
       "    }\n",
       "\n",
       "    .dataframe thead th {\n",
       "        text-align: right;\n",
       "    }\n",
       "</style>\n",
       "<table border=\"1\" class=\"dataframe\">\n",
       "  <thead>\n",
       "    <tr style=\"text-align: right;\">\n",
       "      <th></th>\n",
       "      <th>Tweet</th>\n",
       "      <th>Depressive</th>\n",
       "      <th>Processed_Tweet</th>\n",
       "    </tr>\n",
       "  </thead>\n",
       "  <tbody>\n",
       "    <tr>\n",
       "      <th>0</th>\n",
       "      <td>Today in Selfcare: beauty &amp;amp; laughs Kung Fu Panda 3 #Wellness #joy #laughter #selfcare #therapist #philadelphia</td>\n",
       "      <td>0</td>\n",
       "      <td>Today in Selfcare  beauty  amp  laughs Kung Fu Panda    Wellness  joy  laughter  selfcare  therapist  philadelphia</td>\n",
       "    </tr>\n",
       "    <tr>\n",
       "      <th>1</th>\n",
       "      <td>I get to spend New Year's home again alone and lonely. ???•</td>\n",
       "      <td>1</td>\n",
       "      <td>I get to spend New Year s home again alone and lonely</td>\n",
       "    </tr>\n",
       "    <tr>\n",
       "      <th>2</th>\n",
       "      <td>Depressed and lonely /: Stuck in a deep, never ending hole :(</td>\n",
       "      <td>1</td>\n",
       "      <td>Depressed and lonely    Stuck in a deep  never ending hole</td>\n",
       "    </tr>\n",
       "    <tr>\n",
       "      <th>3</th>\n",
       "      <td>If this is your response to someone saying they're dealing with , you're a terrible person.</td>\n",
       "      <td>0</td>\n",
       "      <td>If this is your response to someone saying they re dealing with   you re a terrible person</td>\n",
       "    </tr>\n",
       "    <tr>\n",
       "      <th>4</th>\n",
       "      <td>Apparently you get a free pass just by mentioning    Where was I on the free badge day??!!</td>\n",
       "      <td>0</td>\n",
       "      <td>Apparently you get a free pass just by mentioning    Where was I on the free badge day</td>\n",
       "    </tr>\n",
       "    <tr>\n",
       "      <th>5</th>\n",
       "      <td>When you will never again give birth to violent men..   pic.twitter.com/pkdPhhlUuZ</td>\n",
       "      <td>0</td>\n",
       "      <td>When you will never again give birth to violent men</td>\n",
       "    </tr>\n",
       "    <tr>\n",
       "      <th>6</th>\n",
       "      <td>Learning to pretend to have a good time had become a natural skill. I hope one day it is genuine</td>\n",
       "      <td>1</td>\n",
       "      <td>Learning to pretend to have a good time had become a natural skill  I hope one day it is genuine</td>\n",
       "    </tr>\n",
       "    <tr>\n",
       "      <th>7</th>\n",
       "      <td>Aw man im outta pizza rolls</td>\n",
       "      <td>0</td>\n",
       "      <td>Aw man im outta pizza rolls</td>\n",
       "    </tr>\n",
       "    <tr>\n",
       "      <th>8</th>\n",
       "      <td>When you go out and try to be a part of life &amp; end up feeling like you are less a part of it then when you started.   pic.twitter.com/J625NXrWDb</td>\n",
       "      <td>0</td>\n",
       "      <td>When you go out and try to be a part of life   end up feeling like you are less a part of it then when you started</td>\n",
       "    </tr>\n",
       "    <tr>\n",
       "      <th>9</th>\n",
       "      <td>So far he stop texting me…after I said something…so hopefully he doesn't show up at my house…</td>\n",
       "      <td>1</td>\n",
       "      <td>So far he stop texting me after I said something so hopefully he doesn t show up at my house</td>\n",
       "    </tr>\n",
       "  </tbody>\n",
       "</table>\n",
       "</div>"
      ],
      "text/plain": [
       "                                                                                                                                              Tweet  \\\n",
       "0                                Today in Selfcare: beauty &amp; laughs Kung Fu Panda 3 #Wellness #joy #laughter #selfcare #therapist #philadelphia   \n",
       "1                                                                                      I get to spend New Year's home again alone and lonely. ???•    \n",
       "2                                                                                   Depressed and lonely /: Stuck in a deep, never ending hole :(     \n",
       "3                                                     If this is your response to someone saying they're dealing with , you're a terrible person.     \n",
       "4                                                        Apparently you get a free pass just by mentioning    Where was I on the free badge day??!!   \n",
       "5                                                                When you will never again give birth to violent men..   pic.twitter.com/pkdPhhlUuZ   \n",
       "6                                                  Learning to pretend to have a good time had become a natural skill. I hope one day it is genuine   \n",
       "7                                                                                                                      Aw man im outta pizza rolls    \n",
       "8  When you go out and try to be a part of life & end up feeling like you are less a part of it then when you started.   pic.twitter.com/J625NXrWDb   \n",
       "9                                                     So far he stop texting me…after I said something…so hopefully he doesn't show up at my house…   \n",
       "\n",
       "   Depressive  \\\n",
       "0           0   \n",
       "1           1   \n",
       "2           1   \n",
       "3           0   \n",
       "4           0   \n",
       "5           0   \n",
       "6           1   \n",
       "7           0   \n",
       "8           0   \n",
       "9           1   \n",
       "\n",
       "                                                                                                          Processed_Tweet  \n",
       "0      Today in Selfcare  beauty  amp  laughs Kung Fu Panda    Wellness  joy  laughter  selfcare  therapist  philadelphia  \n",
       "1                                                            I get to spend New Year s home again alone and lonely         \n",
       "2                                                         Depressed and lonely    Stuck in a deep  never ending hole       \n",
       "3                           If this is your response to someone saying they re dealing with   you re a terrible person     \n",
       "4                              Apparently you get a free pass just by mentioning    Where was I on the free badge day      \n",
       "5                                                                When you will never again give birth to violent men       \n",
       "6                        Learning to pretend to have a good time had become a natural skill  I hope one day it is genuine  \n",
       "7                                                                                            Aw man im outta pizza rolls   \n",
       "8  When you go out and try to be a part of life   end up feeling like you are less a part of it then when you started      \n",
       "9                           So far he stop texting me after I said something so hopefully he doesn t show up at my house   "
      ]
     },
     "execution_count": 13,
     "metadata": {},
     "output_type": "execute_result"
    }
   ],
   "source": [
    "data[\"Processed_Tweet\"] = data[\"Processed_Tweet\"].str.replace(\"[^a-zA-Z]\", \" \")\n",
    "data.head(10)"
   ]
  },
  {
   "cell_type": "code",
   "execution_count": 14,
   "id": "headed-digit",
   "metadata": {},
   "outputs": [
    {
     "name": "stderr",
     "output_type": "stream",
     "text": [
      "[nltk_data] Downloading package stopwords to\n",
      "[nltk_data]     C:\\Users\\hp\\AppData\\Roaming\\nltk_data...\n",
      "[nltk_data]   Unzipping corpora\\stopwords.zip.\n"
     ]
    }
   ],
   "source": [
    "nltk.download('stopwords')\n",
    "stopwords = nltk.corpus.stopwords.words('english')"
   ]
  },
  {
   "cell_type": "code",
   "execution_count": 15,
   "id": "latest-subsection",
   "metadata": {},
   "outputs": [],
   "source": [
    "data.drop([\"Tweet\"], axis = 1, inplace = True)"
   ]
  },
  {
   "cell_type": "code",
   "execution_count": 16,
   "id": "fitting-allocation",
   "metadata": {},
   "outputs": [
    {
     "data": {
      "text/html": [
       "<div>\n",
       "<style scoped>\n",
       "    .dataframe tbody tr th:only-of-type {\n",
       "        vertical-align: middle;\n",
       "    }\n",
       "\n",
       "    .dataframe tbody tr th {\n",
       "        vertical-align: top;\n",
       "    }\n",
       "\n",
       "    .dataframe thead th {\n",
       "        text-align: right;\n",
       "    }\n",
       "</style>\n",
       "<table border=\"1\" class=\"dataframe\">\n",
       "  <thead>\n",
       "    <tr style=\"text-align: right;\">\n",
       "      <th></th>\n",
       "      <th>Depressive</th>\n",
       "      <th>Processed_Tweet</th>\n",
       "    </tr>\n",
       "  </thead>\n",
       "  <tbody>\n",
       "    <tr>\n",
       "      <th>0</th>\n",
       "      <td>0</td>\n",
       "      <td>Today in Selfcare  beauty  amp  laughs Kung Fu Panda    Wellness  joy  laughter  selfcare  therapist  philadelphia</td>\n",
       "    </tr>\n",
       "    <tr>\n",
       "      <th>1</th>\n",
       "      <td>1</td>\n",
       "      <td>I get to spend New Year s home again alone and lonely</td>\n",
       "    </tr>\n",
       "    <tr>\n",
       "      <th>2</th>\n",
       "      <td>1</td>\n",
       "      <td>Depressed and lonely    Stuck in a deep  never ending hole</td>\n",
       "    </tr>\n",
       "    <tr>\n",
       "      <th>3</th>\n",
       "      <td>0</td>\n",
       "      <td>If this is your response to someone saying they re dealing with   you re a terrible person</td>\n",
       "    </tr>\n",
       "    <tr>\n",
       "      <th>4</th>\n",
       "      <td>0</td>\n",
       "      <td>Apparently you get a free pass just by mentioning    Where was I on the free badge day</td>\n",
       "    </tr>\n",
       "  </tbody>\n",
       "</table>\n",
       "</div>"
      ],
      "text/plain": [
       "   Depressive  \\\n",
       "0           0   \n",
       "1           1   \n",
       "2           1   \n",
       "3           0   \n",
       "4           0   \n",
       "\n",
       "                                                                                                      Processed_Tweet  \n",
       "0  Today in Selfcare  beauty  amp  laughs Kung Fu Panda    Wellness  joy  laughter  selfcare  therapist  philadelphia  \n",
       "1                                                        I get to spend New Year s home again alone and lonely         \n",
       "2                                                     Depressed and lonely    Stuck in a deep  never ending hole       \n",
       "3                       If this is your response to someone saying they re dealing with   you re a terrible person     \n",
       "4                          Apparently you get a free pass just by mentioning    Where was I on the free badge day      "
      ]
     },
     "execution_count": 16,
     "metadata": {},
     "output_type": "execute_result"
    }
   ],
   "source": [
    "data.head()"
   ]
  },
  {
   "cell_type": "code",
   "execution_count": 17,
   "id": "ceramic-allowance",
   "metadata": {},
   "outputs": [
    {
     "data": {
      "text/html": [
       "<div>\n",
       "<style scoped>\n",
       "    .dataframe tbody tr th:only-of-type {\n",
       "        vertical-align: middle;\n",
       "    }\n",
       "\n",
       "    .dataframe tbody tr th {\n",
       "        vertical-align: top;\n",
       "    }\n",
       "\n",
       "    .dataframe thead th {\n",
       "        text-align: right;\n",
       "    }\n",
       "</style>\n",
       "<table border=\"1\" class=\"dataframe\">\n",
       "  <thead>\n",
       "    <tr style=\"text-align: right;\">\n",
       "      <th></th>\n",
       "      <th>Depressive</th>\n",
       "      <th>Processed_Tweet</th>\n",
       "    </tr>\n",
       "  </thead>\n",
       "  <tbody>\n",
       "    <tr>\n",
       "      <th>0</th>\n",
       "      <td>0</td>\n",
       "      <td>today selfcare beauty amp laughs kung fu panda wellness joy laughter selfcare therapist philadelphia</td>\n",
       "    </tr>\n",
       "    <tr>\n",
       "      <th>1</th>\n",
       "      <td>1</td>\n",
       "      <td>get spend new year home alone lonely</td>\n",
       "    </tr>\n",
       "    <tr>\n",
       "      <th>2</th>\n",
       "      <td>1</td>\n",
       "      <td>depressed lonely stuck deep never ending hole</td>\n",
       "    </tr>\n",
       "    <tr>\n",
       "      <th>3</th>\n",
       "      <td>0</td>\n",
       "      <td>response someone saying dealing terrible person</td>\n",
       "    </tr>\n",
       "    <tr>\n",
       "      <th>4</th>\n",
       "      <td>0</td>\n",
       "      <td>apparently get free pass mentioning free badge day</td>\n",
       "    </tr>\n",
       "  </tbody>\n",
       "</table>\n",
       "</div>"
      ],
      "text/plain": [
       "   Depressive  \\\n",
       "0           0   \n",
       "1           1   \n",
       "2           1   \n",
       "3           0   \n",
       "4           0   \n",
       "\n",
       "                                                                                        Processed_Tweet  \n",
       "0  today selfcare beauty amp laughs kung fu panda wellness joy laughter selfcare therapist philadelphia  \n",
       "1                                                                  get spend new year home alone lonely  \n",
       "2                                                         depressed lonely stuck deep never ending hole  \n",
       "3                                                       response someone saying dealing terrible person  \n",
       "4                                                    apparently get free pass mentioning free badge day  "
      ]
     },
     "execution_count": 17,
     "metadata": {},
     "output_type": "execute_result"
    }
   ],
   "source": [
    "def remove_stopwords(text):\n",
    "    clean_text = \" \".join([word for word in text.split() if word not in stopwords])\n",
    "    return clean_text\n",
    "\n",
    "\n",
    "data[\"Processed_Tweet\"] = data[\"Processed_Tweet\"].apply(lambda text: remove_stopwords(text.lower()))\n",
    "data.head()"
   ]
  },
  {
   "cell_type": "code",
   "execution_count": 18,
   "id": "marked-invite",
   "metadata": {},
   "outputs": [
    {
     "data": {
      "text/html": [
       "<div>\n",
       "<style scoped>\n",
       "    .dataframe tbody tr th:only-of-type {\n",
       "        vertical-align: middle;\n",
       "    }\n",
       "\n",
       "    .dataframe tbody tr th {\n",
       "        vertical-align: top;\n",
       "    }\n",
       "\n",
       "    .dataframe thead th {\n",
       "        text-align: right;\n",
       "    }\n",
       "</style>\n",
       "<table border=\"1\" class=\"dataframe\">\n",
       "  <thead>\n",
       "    <tr style=\"text-align: right;\">\n",
       "      <th></th>\n",
       "      <th>Depressive</th>\n",
       "      <th>Processed_Tweet</th>\n",
       "    </tr>\n",
       "  </thead>\n",
       "  <tbody>\n",
       "    <tr>\n",
       "      <th>0</th>\n",
       "      <td>0</td>\n",
       "      <td>[today, selfcare, beauty, amp, laughs, kung, fu, panda, wellness, joy, laughter, selfcare, therapist, philadelphia]</td>\n",
       "    </tr>\n",
       "    <tr>\n",
       "      <th>1</th>\n",
       "      <td>1</td>\n",
       "      <td>[get, spend, new, year, home, alone, lonely]</td>\n",
       "    </tr>\n",
       "    <tr>\n",
       "      <th>2</th>\n",
       "      <td>1</td>\n",
       "      <td>[depressed, lonely, stuck, deep, never, ending, hole]</td>\n",
       "    </tr>\n",
       "    <tr>\n",
       "      <th>3</th>\n",
       "      <td>0</td>\n",
       "      <td>[response, someone, saying, dealing, terrible, person]</td>\n",
       "    </tr>\n",
       "    <tr>\n",
       "      <th>4</th>\n",
       "      <td>0</td>\n",
       "      <td>[apparently, get, free, pass, mentioning, free, badge, day]</td>\n",
       "    </tr>\n",
       "  </tbody>\n",
       "</table>\n",
       "</div>"
      ],
      "text/plain": [
       "   Depressive  \\\n",
       "0           0   \n",
       "1           1   \n",
       "2           1   \n",
       "3           0   \n",
       "4           0   \n",
       "\n",
       "                                                                                                       Processed_Tweet  \n",
       "0  [today, selfcare, beauty, amp, laughs, kung, fu, panda, wellness, joy, laughter, selfcare, therapist, philadelphia]  \n",
       "1                                                                         [get, spend, new, year, home, alone, lonely]  \n",
       "2                                                                [depressed, lonely, stuck, deep, never, ending, hole]  \n",
       "3                                                               [response, someone, saying, dealing, terrible, person]  \n",
       "4                                                          [apparently, get, free, pass, mentioning, free, badge, day]  "
      ]
     },
     "execution_count": 18,
     "metadata": {},
     "output_type": "execute_result"
    }
   ],
   "source": [
    "data[\"Processed_Tweet\"] = data[\"Processed_Tweet\"].apply(lambda x: x.split())\n",
    "data.head()"
   ]
  },
  {
   "cell_type": "code",
   "execution_count": 19,
   "id": "natural-calvin",
   "metadata": {},
   "outputs": [
    {
     "data": {
      "text/html": [
       "<div>\n",
       "<style scoped>\n",
       "    .dataframe tbody tr th:only-of-type {\n",
       "        vertical-align: middle;\n",
       "    }\n",
       "\n",
       "    .dataframe tbody tr th {\n",
       "        vertical-align: top;\n",
       "    }\n",
       "\n",
       "    .dataframe thead th {\n",
       "        text-align: right;\n",
       "    }\n",
       "</style>\n",
       "<table border=\"1\" class=\"dataframe\">\n",
       "  <thead>\n",
       "    <tr style=\"text-align: right;\">\n",
       "      <th></th>\n",
       "      <th>Depressive</th>\n",
       "      <th>Processed_Tweet</th>\n",
       "    </tr>\n",
       "  </thead>\n",
       "  <tbody>\n",
       "    <tr>\n",
       "      <th>0</th>\n",
       "      <td>0</td>\n",
       "      <td>[today, selfcar, beauti, amp, laugh, kung, fu, panda, well, joy, laughter, selfcar, therapist, philadelphia]</td>\n",
       "    </tr>\n",
       "    <tr>\n",
       "      <th>1</th>\n",
       "      <td>1</td>\n",
       "      <td>[get, spend, new, year, home, alon, lone]</td>\n",
       "    </tr>\n",
       "    <tr>\n",
       "      <th>2</th>\n",
       "      <td>1</td>\n",
       "      <td>[depress, lone, stuck, deep, never, end, hole]</td>\n",
       "    </tr>\n",
       "    <tr>\n",
       "      <th>3</th>\n",
       "      <td>0</td>\n",
       "      <td>[respons, someon, say, deal, terribl, person]</td>\n",
       "    </tr>\n",
       "    <tr>\n",
       "      <th>4</th>\n",
       "      <td>0</td>\n",
       "      <td>[appar, get, free, pass, mention, free, badg, day]</td>\n",
       "    </tr>\n",
       "  </tbody>\n",
       "</table>\n",
       "</div>"
      ],
      "text/plain": [
       "   Depressive  \\\n",
       "0           0   \n",
       "1           1   \n",
       "2           1   \n",
       "3           0   \n",
       "4           0   \n",
       "\n",
       "                                                                                                Processed_Tweet  \n",
       "0  [today, selfcar, beauti, amp, laugh, kung, fu, panda, well, joy, laughter, selfcar, therapist, philadelphia]  \n",
       "1                                                                     [get, spend, new, year, home, alon, lone]  \n",
       "2                                                                [depress, lone, stuck, deep, never, end, hole]  \n",
       "3                                                                 [respons, someon, say, deal, terribl, person]  \n",
       "4                                                            [appar, get, free, pass, mention, free, badg, day]  "
      ]
     },
     "execution_count": 19,
     "metadata": {},
     "output_type": "execute_result"
    }
   ],
   "source": [
    "from nltk.stem.porter import *\n",
    "stemmer = PorterStemmer()\n",
    "data[\"Processed_Tweet\"] = data[\"Processed_Tweet\"].apply(lambda x: [stemmer.stem(i) for i in x])\n",
    "data.head()"
   ]
  },
  {
   "cell_type": "code",
   "execution_count": 20,
   "id": "royal-liechtenstein",
   "metadata": {},
   "outputs": [
    {
     "data": {
      "text/html": [
       "<div>\n",
       "<style scoped>\n",
       "    .dataframe tbody tr th:only-of-type {\n",
       "        vertical-align: middle;\n",
       "    }\n",
       "\n",
       "    .dataframe tbody tr th {\n",
       "        vertical-align: top;\n",
       "    }\n",
       "\n",
       "    .dataframe thead th {\n",
       "        text-align: right;\n",
       "    }\n",
       "</style>\n",
       "<table border=\"1\" class=\"dataframe\">\n",
       "  <thead>\n",
       "    <tr style=\"text-align: right;\">\n",
       "      <th></th>\n",
       "      <th>Depressive</th>\n",
       "      <th>Processed_Tweet</th>\n",
       "    </tr>\n",
       "  </thead>\n",
       "  <tbody>\n",
       "    <tr>\n",
       "      <th>0</th>\n",
       "      <td>0</td>\n",
       "      <td>today selfcar beauti amp laugh kung fu panda well joy laughter selfcar therapist philadelphia</td>\n",
       "    </tr>\n",
       "    <tr>\n",
       "      <th>1</th>\n",
       "      <td>1</td>\n",
       "      <td>get spend new year home alon lone</td>\n",
       "    </tr>\n",
       "    <tr>\n",
       "      <th>2</th>\n",
       "      <td>1</td>\n",
       "      <td>depress lone stuck deep never end hole</td>\n",
       "    </tr>\n",
       "    <tr>\n",
       "      <th>3</th>\n",
       "      <td>0</td>\n",
       "      <td>respons someon say deal terribl person</td>\n",
       "    </tr>\n",
       "    <tr>\n",
       "      <th>4</th>\n",
       "      <td>0</td>\n",
       "      <td>appar get free pass mention free badg day</td>\n",
       "    </tr>\n",
       "  </tbody>\n",
       "</table>\n",
       "</div>"
      ],
      "text/plain": [
       "   Depressive  \\\n",
       "0           0   \n",
       "1           1   \n",
       "2           1   \n",
       "3           0   \n",
       "4           0   \n",
       "\n",
       "                                                                                 Processed_Tweet  \n",
       "0  today selfcar beauti amp laugh kung fu panda well joy laughter selfcar therapist philadelphia  \n",
       "1                                                              get spend new year home alon lone  \n",
       "2                                                         depress lone stuck deep never end hole  \n",
       "3                                                         respons someon say deal terribl person  \n",
       "4                                                      appar get free pass mention free badg day  "
      ]
     },
     "execution_count": 20,
     "metadata": {},
     "output_type": "execute_result"
    }
   ],
   "source": [
    "data[\"Processed_Tweet\"] = data[\"Processed_Tweet\"].apply(lambda x: ' '.join([w for w in x]))\n",
    "data.head()"
   ]
  },
  {
   "cell_type": "code",
   "execution_count": 21,
   "id": "continuing-activity",
   "metadata": {},
   "outputs": [
    {
     "data": {
      "text/html": [
       "<div>\n",
       "<style scoped>\n",
       "    .dataframe tbody tr th:only-of-type {\n",
       "        vertical-align: middle;\n",
       "    }\n",
       "\n",
       "    .dataframe tbody tr th {\n",
       "        vertical-align: top;\n",
       "    }\n",
       "\n",
       "    .dataframe thead th {\n",
       "        text-align: right;\n",
       "    }\n",
       "</style>\n",
       "<table border=\"1\" class=\"dataframe\">\n",
       "  <thead>\n",
       "    <tr style=\"text-align: right;\">\n",
       "      <th></th>\n",
       "      <th>Depressive</th>\n",
       "      <th>Processed_Tweet</th>\n",
       "    </tr>\n",
       "  </thead>\n",
       "  <tbody>\n",
       "    <tr>\n",
       "      <th>0</th>\n",
       "      <td>0</td>\n",
       "      <td>today selfcar beauti laugh kung panda well laughter selfcar therapist philadelphia</td>\n",
       "    </tr>\n",
       "    <tr>\n",
       "      <th>1</th>\n",
       "      <td>1</td>\n",
       "      <td>spend year home alon lone</td>\n",
       "    </tr>\n",
       "    <tr>\n",
       "      <th>2</th>\n",
       "      <td>1</td>\n",
       "      <td>depress lone stuck deep never hole</td>\n",
       "    </tr>\n",
       "    <tr>\n",
       "      <th>3</th>\n",
       "      <td>0</td>\n",
       "      <td>respons someon deal terribl person</td>\n",
       "    </tr>\n",
       "    <tr>\n",
       "      <th>4</th>\n",
       "      <td>0</td>\n",
       "      <td>appar free pass mention free badg</td>\n",
       "    </tr>\n",
       "  </tbody>\n",
       "</table>\n",
       "</div>"
      ],
      "text/plain": [
       "   Depressive  \\\n",
       "0           0   \n",
       "1           1   \n",
       "2           1   \n",
       "3           0   \n",
       "4           0   \n",
       "\n",
       "                                                                      Processed_Tweet  \n",
       "0  today selfcar beauti laugh kung panda well laughter selfcar therapist philadelphia  \n",
       "1                                                           spend year home alon lone  \n",
       "2                                                  depress lone stuck deep never hole  \n",
       "3                                                  respons someon deal terribl person  \n",
       "4                                                   appar free pass mention free badg  "
      ]
     },
     "execution_count": 21,
     "metadata": {},
     "output_type": "execute_result"
    }
   ],
   "source": [
    "data[\"Processed_Tweet\"] = data[\"Processed_Tweet\"].apply(lambda x: ' '.join([w for w in x.split() if len(w) > 3]))\n",
    "data.head()"
   ]
  },
  {
   "cell_type": "code",
   "execution_count": 32,
   "id": "permanent-juvenile",
   "metadata": {},
   "outputs": [],
   "source": [
    "from xgboost import XGBClassifier\n",
    "import xgboost as xgb\n",
    "from sklearn.metrics import accuracy_score\n",
    "from sklearn.model_selection import train_test_split\n",
    "from sklearn.feature_extraction.text import CountVectorizer\n",
    "from sklearn.naive_bayes import MultinomialNB\n",
    "from sklearn.metrics import precision_score\n",
    "from sklearn.metrics import recall_score\n",
    "from sklearn.metrics import f1_score\n",
    "from sklearn.model_selection import GridSearchCV"
   ]
  },
  {
   "cell_type": "code",
   "execution_count": 33,
   "id": "swiss-impact",
   "metadata": {},
   "outputs": [
    {
     "data": {
      "text/plain": [
       "(3200, 4496)"
      ]
     },
     "execution_count": 33,
     "metadata": {},
     "output_type": "execute_result"
    }
   ],
   "source": [
    "count_vectorizer = CountVectorizer(stop_words='english')\n",
    "cv = count_vectorizer.fit_transform(data[\"Processed_Tweet\"])\n",
    "cv.shape"
   ]
  },
  {
   "cell_type": "code",
   "execution_count": 34,
   "id": "continent-freeware",
   "metadata": {},
   "outputs": [],
   "source": [
    "X_train, X_test, y_train, y_test = train_test_split(cv, data[\"Depressive\"], test_size=.2, stratify=data[\"Depressive\"], random_state=42)"
   ]
  },
  {
   "cell_type": "code",
   "execution_count": 35,
   "id": "improving-briefs",
   "metadata": {},
   "outputs": [
    {
     "data": {
      "text/plain": [
       "(2560, 4496)"
      ]
     },
     "execution_count": 35,
     "metadata": {},
     "output_type": "execute_result"
    }
   ],
   "source": [
    "X_train.shape"
   ]
  },
  {
   "cell_type": "code",
   "execution_count": 51,
   "id": "extraordinary-sister",
   "metadata": {},
   "outputs": [
    {
     "data": {
      "text/plain": [
       "(640, 4496)"
      ]
     },
     "execution_count": 51,
     "metadata": {},
     "output_type": "execute_result"
    }
   ],
   "source": [
    "X_test.shape"
   ]
  },
  {
   "cell_type": "code",
   "execution_count": 37,
   "id": "greenhouse-argentina",
   "metadata": {},
   "outputs": [
    {
     "data": {
      "text/plain": [
       "(2560,)"
      ]
     },
     "execution_count": 37,
     "metadata": {},
     "output_type": "execute_result"
    }
   ],
   "source": [
    "y_train.shape"
   ]
  },
  {
   "cell_type": "code",
   "execution_count": 38,
   "id": "extensive-triumph",
   "metadata": {},
   "outputs": [
    {
     "data": {
      "text/plain": [
       "(640,)"
      ]
     },
     "execution_count": 38,
     "metadata": {},
     "output_type": "execute_result"
    }
   ],
   "source": [
    "y_test.shape"
   ]
  },
  {
   "cell_type": "code",
   "execution_count": 39,
   "id": "favorite-seventh",
   "metadata": {},
   "outputs": [
    {
     "name": "stdout",
     "output_type": "stream",
     "text": [
      "0.734375\n",
      "0.8181818181818182\n",
      "0.821656050955414\n",
      "0.8199152542372881\n"
     ]
    }
   ],
   "source": [
    "nb = MultinomialNB()\n",
    "nb.fit(X_train, y_train)\n",
    "prediction_nb = nb.predict(X_test)\n",
    "\n",
    "print(accuracy_score(prediction_nb, y_test))\n",
    "print(precision_score(y_test, prediction_nb, labels=[0], average='micro'))\n",
    "print(recall_score(y_test, prediction_nb, labels=[0], average='micro'))\n",
    "print(f1_score(y_test, prediction_nb, labels=[0], average='micro'))"
   ]
  },
  {
   "cell_type": "code",
   "execution_count": 40,
   "id": "capital-tourism",
   "metadata": {},
   "outputs": [
    {
     "name": "stdout",
     "output_type": "stream",
     "text": [
      "[11:35:24] WARNING: ..\\src\\learner.cc:1061: Starting in XGBoost 1.3.0, the default evaluation metric used with the objective 'binary:logistic' was changed from 'error' to 'logloss'. Explicitly set eval_metric if you'd like to restore the old behavior.\n",
      "0.753125\n",
      "0.820040899795501\n",
      "0.851380042462845\n",
      "0.8354166666666667\n"
     ]
    }
   ],
   "source": [
    "xgbc = XGBClassifier(max_depth=6, n_estimators=1000, nthread=3)\n",
    "xgbc.fit(X_train, y_train)\n",
    "prediction_xgb = xgbc.predict(X_test)\n",
    "\n",
    "print(accuracy_score(prediction_xgb, y_test))\n",
    "print(precision_score(y_test, prediction_xgb, labels=[0], average='micro'))\n",
    "print(recall_score(y_test, prediction_xgb, labels=[0], average='micro'))\n",
    "print(f1_score(y_test, prediction_xgb, labels=[0], average='micro'))"
   ]
  }
 ],
 "metadata": {
  "kernelspec": {
   "display_name": "Python 3",
   "language": "python",
   "name": "python3"
  },
  "language_info": {
   "codemirror_mode": {
    "name": "ipython",
    "version": 3
   },
   "file_extension": ".py",
   "mimetype": "text/x-python",
   "name": "python",
   "nbconvert_exporter": "python",
   "pygments_lexer": "ipython3",
   "version": "3.7.10"
  }
 },
 "nbformat": 4,
 "nbformat_minor": 5
}
